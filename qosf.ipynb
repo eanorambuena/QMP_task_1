{
 "cells": [
  {
   "cell_type": "code",
   "execution_count": 24,
   "id": "91fa178f-00a4-4578-a36f-23944ee71b62",
   "metadata": {},
   "outputs": [
    {
     "name": "stderr",
     "output_type": "stream",
     "text": [
      "ibmqfactory.load_account:WARNING:2021-09-18 18:01:27,247: Credentials are already in use. The existing account in the session will be replaced.\n"
     ]
    }
   ],
   "source": [
    "import numpy as np\n",
    "%matplotlib inline\n",
    "\n",
    "# Importing standard Qiskit libraries\n",
    "from qiskit import QuantumCircuit, transpile, Aer, IBMQ, execute\n",
    "from qiskit.tools.jupyter import *\n",
    "from qiskit.visualization import *\n",
    "from ibm_quantum_widgets import *\n",
    "from qiskit.providers.aer import QasmSimulator\n",
    "\n",
    "# Loading your IBM Quantum account(s)\n",
    "provider = IBMQ.load_account()"
   ]
  },
  {
   "cell_type": "code",
   "execution_count": 54,
   "id": "e02eb6ea-f7ce-45c6-a2a4-7e88148bf9f1",
   "metadata": {},
   "outputs": [],
   "source": [
    "# Functions\n",
    "\n",
    "def check_binary(binary):\n",
    "    if len(binary) == 0 or len(binary) == 1:\n",
    "        return True\n",
    "    last = binary[0]\n",
    "    for i in binary[1:]:\n",
    "        if i == last:\n",
    "            return False\n",
    "        last = i\n",
    "    return True\n",
    "\n",
    "def binarize(vector):\n",
    "    binary = []\n",
    "    max_len = 0\n",
    "    for i in vector:\n",
    "        binary_i = bin(i)[2:]\n",
    "        if len(binary_i) > max_len:\n",
    "            max_len = len(binary_i)\n",
    "        binary.append(binary_i)\n",
    "    for index in range(len(binary)):\n",
    "        i = binary[index]\n",
    "        if len(i) < max_len:\n",
    "            binary[index] = (max_len - len(i)) * \"0\" + i\n",
    "    return binary\n",
    "\n",
    "def plot_qc(qc):\n",
    "    backend = Aer.get_backend('qasm_simulator')\n",
    "    job = execute(qc, backend)\n",
    "    results = job.result()\n",
    "    counts = results.get_counts()\n",
    "    plot_histogram(counts)\n",
    "    \n",
    "def bell_00(qc):\n",
    "    qc.h(0)\n",
    "    qc.cx(0, 1)\n",
    "    return qc\n",
    "\n",
    "def bell_01(qc):\n",
    "    qc.x(1)\n",
    "    return bell_00(qc)\n",
    "\n",
    "def state(qc, s):\n",
    "    if s == \"00\":\n",
    "        pass\n",
    "    elif s == \"01\":\n",
    "        qc.x(0)\n",
    "    elif s == \"10\":\n",
    "        qc.x(1)\n",
    "    elif s == \"11\":\n",
    "        qc.x(0)\n",
    "        qc.x(1)\n",
    "    elif s == \"b00\":\n",
    "        qc = bell_00(qc)\n",
    "    elif s == \"b01\":\n",
    "        qc = bell_01(qc)\n",
    "    return qc"
   ]
  },
  {
   "cell_type": "code",
   "execution_count": 55,
   "id": "2bf1e10e-8f6a-4300-9e0b-46350765b2ba",
   "metadata": {},
   "outputs": [
    {
     "name": "stdout",
     "output_type": "stream",
     "text": [
      "['001', '101', '100', '010']\n",
      "[1, 3]\n",
      "['01', '11']\n"
     ]
    }
   ],
   "source": [
    "# Classical\n",
    "vector = [1, 5, 4, 2]\n",
    "binary = binarize(vector)\n",
    "solutions = []\n",
    "for index in range(len(binary)):\n",
    "    if check_binary(binary[index]):\n",
    "        solutions.append(index)\n",
    "binary_solutions = binarize(solutions) \n",
    "print(binary)\n",
    "print(solutions)\n",
    "print(binary_solutions)"
   ]
  },
  {
   "cell_type": "code",
   "execution_count": 56,
   "id": "a3e82d85-c31e-4a2f-8069-8dbd58450d2a",
   "metadata": {},
   "outputs": [
    {
     "data": {
      "image/png": "[encoded data removed]",
      "text/plain": [
       "<Figure size 267.052x204.68 with 1 Axes>"
      ]
     },
     "metadata": {},
     "output_type": "display_data"
    },
    {
     "data": {
      "image/png": "[encoded data removed]",
      "text/plain": [
       "<Figure size 504x360 with 1 Axes>"
      ]
     },
     "metadata": {
      "needs_background": "light"
     },
     "output_type": "display_data"
    }
   ],
   "source": [
    "# Quantum\n",
    "\n",
    "n = 2\n",
    "q = range(n)\n",
    "bs_0 = binary_solutions[0]\n",
    "bs_1 = binary_solutions[1]\n",
    "qc = qc = QuantumCircuit(qubits, qubits)\n",
    "\n",
    "if len(binary_solutions) == 2:\n",
    "    if bs_0 == bs_1:\n",
    "        qc = state(qc, bs_0)\n",
    "    elif bs_0[0] == \"0\" == bs_1[0]:\n",
    "        qc.h(1)\n",
    "    elif bs_0[0] == \"1\" == bs_1[0]:\n",
    "        qc.x(0)\n",
    "        qc.h(1)\n",
    "    elif bs_0[1] == \"0\" == bs_1[1]:\n",
    "        qc.h(0)\n",
    "    elif bs_0[1] == \"1\" == bs_1[1]:\n",
    "        qc.x(1)\n",
    "        qc.h(0)\n",
    "    else:\n",
    "        qc = state(qc, f\"b{bs_0}\")\n",
    "    \n",
    "qc.measure(q, q)\n",
    "qc.draw(\"mpl\")\n",
    "plot_qc(qc)"
   ]
  },
  {
   "cell_type": "code",
   "execution_count": null,
   "id": "eaae7ce9-1c0b-444c-a6e7-535ccd5ad7c3",
   "metadata": {},
   "outputs": [],
   "source": []
  },
  {
   "cell_type": "code",
   "execution_count": null,
   "id": "00a452a3-934c-4ae8-80a2-40533abc75df",
   "metadata": {},
   "outputs": [],
   "source": []
  }
 ],
 "metadata": {
  "kernelspec": {
   "display_name": "Qiskit v0.29.0",
   "language": "python",
   "name": "python3"
  },
  "language_info": {
   "codemirror_mode": {
    "name": "ipython",
    "version": 3
   },
   "file_extension": ".py",
   "mimetype": "text/x-python",
   "name": "python",
   "nbconvert_exporter": "python",
   "pygments_lexer": "ipython3",
   "version": "3.8.10"
  },
  "widgets": {
   "application/vnd.jupyter.widget-state+json": {
    "state": {
     "0530b60a53a74e688ccd741197804fd1": {
      "model_module": "@jupyter-widgets/controls",
      "model_module_version": "1.5.0",
      "model_name": "HTMLModel",
      "state": {
       "layout": "IPY_MODEL_90f42cac1cbd4ef1820a971b548bc193",
       "style": "IPY_MODEL_ee37e62675d5492b958f99c5d187c955",
       "value": "<h5>Status</h5>"
      }
     },
     "0dd0a661d8d54b8a9d9e0129053e4e34": {
      "model_module": "@jupyter-widgets/controls",
      "model_module_version": "1.5.0",
      "model_name": "DescriptionStyleModel",
      "state": {
       "description_width": ""
      }
     },
     "1f9cb076845749618047708f1bd7a7d8": {
      "model_module": "@jupyter-widgets/controls",
      "model_module_version": "1.5.0",
      "model_name": "HTMLModel",
      "state": {
       "layout": "IPY_MODEL_2e8aba25f51f4cc3afd1a5fe6c7b27bf",
       "style": "IPY_MODEL_0dd0a661d8d54b8a9d9e0129053e4e34",
       "value": "<p style='font-family: IBM Plex Sans, Arial, Helvetica, sans-serif; font-size: 20px; font-weight: medium;'>Circuit Properties</p>"
      }
     },
     "2e8aba25f51f4cc3afd1a5fe6c7b27bf": {
      "model_module": "@jupyter-widgets/base",
      "model_module_version": "1.2.0",
      "model_name": "LayoutModel",
      "state": {
       "margin": "0px 0px 10px 0px"
      }
     },
     "37604a8a48c948dbb667d7079c921a39": {
      "model_module": "@jupyter-widgets/base",
      "model_module_version": "1.2.0",
      "model_name": "LayoutModel",
      "state": {
       "width": "145px"
      }
     },
     "385d8191cda84715bab94d6e6c60e8d9": {
      "model_module": "@jupyter-widgets/base",
      "model_module_version": "1.2.0",
      "model_name": "LayoutModel",
      "state": {
       "width": "190px"
      }
     },
     "397e8402e01b4ce89945027389881ead": {
      "model_module": "@jupyter-widgets/controls",
      "model_module_version": "1.5.0",
      "model_name": "HTMLModel",
      "state": {
       "layout": "IPY_MODEL_37604a8a48c948dbb667d7079c921a39",
       "style": "IPY_MODEL_dc5701785dc94c7a8e2dc3d0ac465efe",
       "value": "<h5>Backend</h5>"
      }
     },
     "3c2f6f913e0a47df97030822125ea509": {
      "model_module": "@jupyter-widgets/controls",
      "model_module_version": "1.5.0",
      "model_name": "HTMLModel",
      "state": {
       "layout": "IPY_MODEL_5cf2cd3097974332a9a1952747c87d91",
       "style": "IPY_MODEL_90368570329e4dd39f78af2cda6375a7",
       "value": "<h5>Queue</h5>"
      }
     },
     "4665a5d1f46442ae997f9844b512fc0c": {
      "model_module": "@jupyter-widgets/base",
      "model_module_version": "1.2.0",
      "model_name": "LayoutModel",
      "state": {
       "margin": "0px 0px 0px 37px",
       "width": "600px"
      }
     },
     "4ec9970a6d0941089e20a739b1ed4bc1": {
      "model_module": "@jupyter-widgets/controls",
      "model_module_version": "1.5.0",
      "model_name": "ButtonStyleModel",
      "state": {}
     },
     "5cf2cd3097974332a9a1952747c87d91": {
      "model_module": "@jupyter-widgets/base",
      "model_module_version": "1.2.0",
      "model_name": "LayoutModel",
      "state": {
       "width": "70px"
      }
     },
     "6e72dd09404946dba784179e4d5dad09": {
      "model_module": "@jupyter-widgets/controls",
      "model_module_version": "1.5.0",
      "model_name": "HBoxModel",
      "state": {
       "children": [
        "IPY_MODEL_86aef27cc3c745d7a8c94c1228d7e592",
        "IPY_MODEL_397e8402e01b4ce89945027389881ead",
        "IPY_MODEL_0530b60a53a74e688ccd741197804fd1",
        "IPY_MODEL_3c2f6f913e0a47df97030822125ea509",
        "IPY_MODEL_76190cb5e36747cf89192dbe175c7821"
       ],
       "layout": "IPY_MODEL_4665a5d1f46442ae997f9844b512fc0c"
      }
     },
     "6edbdfca9402407f88e8560264a99f7a": {
      "model_module": "@jupyter-widgets/controls",
      "model_module_version": "1.5.0",
      "model_name": "DescriptionStyleModel",
      "state": {
       "description_width": ""
      }
     },
     "76190cb5e36747cf89192dbe175c7821": {
      "model_module": "@jupyter-widgets/controls",
      "model_module_version": "1.5.0",
      "model_name": "HTMLModel",
      "state": {
       "layout": "IPY_MODEL_d9b2e16934ce49718bada4eee5de7439",
       "style": "IPY_MODEL_bfa4171b7f9a4d55b717b6fdc4e0ca67",
       "value": "<h5>Message</h5>"
      }
     },
     "86aef27cc3c745d7a8c94c1228d7e592": {
      "model_module": "@jupyter-widgets/controls",
      "model_module_version": "1.5.0",
      "model_name": "HTMLModel",
      "state": {
       "layout": "IPY_MODEL_385d8191cda84715bab94d6e6c60e8d9",
       "style": "IPY_MODEL_6edbdfca9402407f88e8560264a99f7a",
       "value": "<h5>Job ID</h5>"
      }
     },
     "8d6dca814dd145c6bec809f07187183b": {
      "model_module": "@jupyter-widgets/base",
      "model_module_version": "1.2.0",
      "model_name": "LayoutModel",
      "state": {
       "grid_area": "right",
       "padding": "0px 0px 0px 0px",
       "width": "70px"
      }
     },
     "90368570329e4dd39f78af2cda6375a7": {
      "model_module": "@jupyter-widgets/controls",
      "model_module_version": "1.5.0",
      "model_name": "DescriptionStyleModel",
      "state": {
       "description_width": ""
      }
     },
     "90f42cac1cbd4ef1820a971b548bc193": {
      "model_module": "@jupyter-widgets/base",
      "model_module_version": "1.2.0",
      "model_name": "LayoutModel",
      "state": {
       "width": "95px"
      }
     },
     "bfa4171b7f9a4d55b717b6fdc4e0ca67": {
      "model_module": "@jupyter-widgets/controls",
      "model_module_version": "1.5.0",
      "model_name": "DescriptionStyleModel",
      "state": {
       "description_width": ""
      }
     },
     "d9b2e16934ce49718bada4eee5de7439": {
      "model_module": "@jupyter-widgets/base",
      "model_module_version": "1.2.0",
      "model_name": "LayoutModel",
      "state": {}
     },
     "dc5701785dc94c7a8e2dc3d0ac465efe": {
      "model_module": "@jupyter-widgets/controls",
      "model_module_version": "1.5.0",
      "model_name": "DescriptionStyleModel",
      "state": {
       "description_width": ""
      }
     },
     "ea02fde66883423c9eb0891b0f93d885": {
      "model_module": "@jupyter-widgets/controls",
      "model_module_version": "1.5.0",
      "model_name": "GridBoxModel",
      "state": {
       "children": [
        "IPY_MODEL_ff22ae86a8f547b3902a197377493d82"
       ],
       "layout": "IPY_MODEL_fd6c4033e2a84030a7e4c18aae706056"
      }
     },
     "ee37e62675d5492b958f99c5d187c955": {
      "model_module": "@jupyter-widgets/controls",
      "model_module_version": "1.5.0",
      "model_name": "DescriptionStyleModel",
      "state": {
       "description_width": ""
      }
     },
     "fd6c4033e2a84030a7e4c18aae706056": {
      "model_module": "@jupyter-widgets/base",
      "model_module_version": "1.2.0",
      "model_name": "LayoutModel",
      "state": {
       "grid_template_areas": "\n                                       \". . . . right \"\n                                        ",
       "grid_template_columns": "20% 20% 20% 20% 20%",
       "width": "100%"
      }
     },
     "ff22ae86a8f547b3902a197377493d82": {
      "model_module": "@jupyter-widgets/controls",
      "model_module_version": "1.5.0",
      "model_name": "ButtonModel",
      "state": {
       "button_style": "primary",
       "description": "Clear",
       "layout": "IPY_MODEL_8d6dca814dd145c6bec809f07187183b",
       "style": "IPY_MODEL_4ec9970a6d0941089e20a739b1ed4bc1"
      }
     }
    },
    "version_major": 2,
    "version_minor": 0
   }
  }
 },
 "nbformat": 4,
 "nbformat_minor": 5
}
